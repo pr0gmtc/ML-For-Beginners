{
 "cells": [
  {
   "cell_type": "code",
   "execution_count": 61,
   "metadata": {},
   "outputs": [
    {
     "name": "stdout",
     "output_type": "stream",
     "text": [
      "PRIDE & PREJUDICE.\n",
      "\n",
      "\n",
      "\n",
      "\n",
      "CHAPTER I.\n",
      "\n",
      "\n",
      "It is a truth universally acknowledged, that a single man in possession\n",
      "of a good fortune, must be in want of a wife.\n",
      "\n",
      "However little known the feelings or views of such a man may be on his\n",
      "first entering a neighbourhood, this truth is so well fixed in the minds\n",
      "of the surrounding families, that he is considered as the rightful\n",
      "property of some one or other of their daughters.\n",
      "\n",
      "\"My dear Mr. Bennet,\" said his lady to him one day, \"have you heard that\n",
      "Netherfiel\n"
     ]
    }
   ],
   "source": [
    "with open(\"Pride and Prejudice.txt\", \"r\") as file: \n",
    "    full_text = file.read()\n",
    "print(full_text[:500]) #preview of the full Pride and Prejufice text "
   ]
  },
  {
   "cell_type": "code",
   "execution_count": 62,
   "metadata": {},
   "outputs": [
    {
     "name": "stdout",
     "output_type": "stream",
     "text": [
      "Pride and Prejudice has a sentiment of Sentiment(polarity=0.1361772340151333, subjectivity=0.5222237044056598)\n"
     ]
    }
   ],
   "source": [
    "sentiment = TextBlob(full_text).sentiment #Pride and Prejudice full text sentiment analyse using TextBlob\n",
    "print(\"Pride and Prejudice has a sentiment of \" + str(sentiment))"
   ]
  },
  {
   "cell_type": "code",
   "execution_count": 63,
   "metadata": {},
   "outputs": [
    {
     "name": "stdout",
     "output_type": "stream",
     "text": [
      "['PRIDE & PREJUDICE.', 'CHAPTER I.', 'It is a truth universally acknowledged, that a single man in possession\\nof a good fortune, must be in want of a wife.', 'However little known the feelings or views of such a man may be on his\\nfirst entering a neighbourhood, this truth is so well fixed in the minds\\nof the surrounding families, that he is considered as the rightful\\nproperty of some one or other of their daughters.', '\"My dear Mr. Bennet,\" said his lady to him one day, \"have you heard that\\nNetherfield Park is let at last?\"', 'Mr. Bennet replied that he had not.', '\"But it is,\" returned she; \"for Mrs. Long has just been here, and she\\ntold me all about it.\"', 'Mr. Bennet made no answer.', '\"Do not you want to know who has taken it?\"', 'cried his wife impatiently.']\n"
     ]
    }
   ],
   "source": [
    "from nltk.tokenize import sent_tokenize\n",
    "sentences_array = sent_tokenize(full_text) #Separating the text into array of sentences\n",
    "print(sentences_array[:10])"
   ]
  },
  {
   "cell_type": "code",
   "execution_count": 64,
   "metadata": {},
   "outputs": [],
   "source": [
    "abs_positive_sentences = []\n",
    "abs_negative_sentences = []"
   ]
  },
  {
   "cell_type": "code",
   "execution_count": 65,
   "metadata": {},
   "outputs": [
    {
     "name": "stdout",
     "output_type": "stream",
     "text": [
      "33\n",
      "16\n"
     ]
    }
   ],
   "source": [
    "#if the polarity of a sentence is absolutely positive or negative we save it\n",
    "for sentence in sentences_array:\n",
    "    if TextBlob(sentence).sentiment.polarity == 1:\n",
    "        abs_positive_sentences.append(sentence) \n",
    "    elif TextBlob(sentence).sentiment.polarity == -1: \n",
    "        abs_negative_sentences.append(sentence)\n",
    "\n",
    "print(len(abs_positive_sentences))\n",
    "print(len(abs_negative_sentences))"
   ]
  },
  {
   "cell_type": "code",
   "execution_count": 66,
   "metadata": {},
   "outputs": [
    {
     "data": {
      "text/plain": [
       "['\"What an excellent father you have, girls,\" said she, when the door was\\nshut.',\n",
       " 'He walked here, and he walked there, fancying himself so very\\ngreat!',\n",
       " 'Elizabeth assured him that she could suit herself perfectly with those\\nin the room.',\n",
       " 'Her performance on the piano-forte is\\nexquisite.\"',\n",
       " 'yes--I understand you perfectly.\"',\n",
       " '\"I am perfectly convinced by it that Mr. Darcy has no defect.',\n",
       " '\"It _is_ wonderful,\"--replied Wickham,--\"for almost all his actions may\\nbe traced to pride;--and pride has often been his best friend.',\n",
       " 'Family pride, and _filial_ pride, for he is very proud of what\\nhis father was, have done this.',\n",
       " 'How wonderfully these sort of things occur!',\n",
       " \"She owed\\nher greatest relief to her friend Miss Lucas, who often joined them, and\\ngood-naturedly engaged Mr. Collins's conversation to herself.\"]"
      ]
     },
     "execution_count": 66,
     "metadata": {},
     "output_type": "execute_result"
    }
   ],
   "source": [
    "abs_positive_sentences[:10]"
   ]
  },
  {
   "cell_type": "code",
   "execution_count": 67,
   "metadata": {},
   "outputs": [
    {
     "data": {
      "text/plain": [
       "['shocking!\"',\n",
       " 'Every body is disgusted with his pride.',\n",
       " '\"But what,\" said she, after a pause, \"can have been his motive?--what\\ncan have induced him to behave so cruelly?\"',\n",
       " 'His disposition must\\nbe dreadful.\"',\n",
       " '\"You shall hear then--but prepare yourself for something very dreadful.',\n",
       " \"The pause was to Elizabeth's feelings\\ndreadful.\"]"
      ]
     },
     "execution_count": 67,
     "metadata": {},
     "output_type": "execute_result"
    }
   ],
   "source": [
    "abs_negative_sentences[:-10]"
   ]
  }
 ],
 "metadata": {
  "interpreter": {
   "hash": "d99c09075135687778676e66ca0e0b3c866e78b21ffaea16bad3f9e501b4468f"
  },
  "kernelspec": {
   "display_name": "Python 3.8.11 64-bit ('microsoft_ml': conda)",
   "name": "python3"
  },
  "language_info": {
   "codemirror_mode": {
    "name": "ipython",
    "version": 3
   },
   "file_extension": ".py",
   "mimetype": "text/x-python",
   "name": "python",
   "nbconvert_exporter": "python",
   "pygments_lexer": "ipython3",
   "version": "3.8.11"
  },
  "orig_nbformat": 4
 },
 "nbformat": 4,
 "nbformat_minor": 2
}
